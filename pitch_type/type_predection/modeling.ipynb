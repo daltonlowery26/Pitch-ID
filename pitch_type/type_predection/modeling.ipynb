{
 "cells": [
  {
   "cell_type": "markdown",
   "id": "14ec7341",
   "metadata": {},
   "source": [
    "#### Pitch Type Based on Cords"
   ]
  },
  {
   "cell_type": "code",
   "execution_count": null,
   "id": "a4f0ed64",
   "metadata": {},
   "outputs": [],
   "source": [
    "import pandas as pd \n",
    "import numpy as np\n",
    "import xgboost as xgb"
   ]
  }
 ],
 "metadata": {
  "kernelspec": {
   "display_name": "base",
   "language": "python",
   "name": "python3"
  },
  "language_info": {
   "name": "python",
   "version": "3.12.7"
  }
 },
 "nbformat": 4,
 "nbformat_minor": 5
}
